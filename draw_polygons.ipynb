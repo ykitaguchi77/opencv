{
  "nbformat": 4,
  "nbformat_minor": 0,
  "metadata": {
    "colab": {
      "name": "Untitled98.ipynb",
      "provenance": [],
      "authorship_tag": "ABX9TyPl0W/iDrWyjZ94ZFdkNtup",
      "include_colab_link": true
    },
    "kernelspec": {
      "name": "python3",
      "display_name": "Python 3"
    },
    "language_info": {
      "name": "python"
    }
  },
  "cells": [
    {
      "cell_type": "markdown",
      "metadata": {
        "id": "view-in-github",
        "colab_type": "text"
      },
      "source": [
        "<a href=\"https://colab.research.google.com/github/ykitaguchi77/opencv/blob/main/draw_polygons.ipynb\" target=\"_parent\"><img src=\"https://colab.research.google.com/assets/colab-badge.svg\" alt=\"Open In Colab\"/></a>"
      ]
    },
    {
      "cell_type": "markdown",
      "source": [
        "#**Draw polygons**"
      ],
      "metadata": {
        "id": "dOD-2Csi8ILa"
      }
    },
    {
      "cell_type": "code",
      "execution_count": 94,
      "metadata": {
        "colab": {
          "base_uri": "https://localhost:8080/",
          "height": 424
        },
        "id": "q5s5ot-K8G8N",
        "outputId": "d8db3cda-7b6f-461b-ce67-c7378ab4fca8"
      },
      "outputs": [
        {
          "output_type": "stream",
          "name": "stdout",
          "text": [
            "<class 'numpy.ndarray'>\n",
            "(4, 2)\n",
            "[[ 50  50]\n",
            " [100  50]\n",
            " [250 200]\n",
            " [180 250]]\n"
          ]
        },
        {
          "output_type": "display_data",
          "data": {
            "image/png": "[encoded data removed]",
            "text/plain": [
              "<PIL.Image.Image image mode=RGB size=300x300 at 0x7F8F5DCBA950>"
            ]
          },
          "metadata": {}
        }
      ],
      "source": [
        "import numpy as np\n",
        "import cv2\n",
        "from google.colab.patches import cv2_imshow\n",
        "  \n",
        "img = np.zeros((300, 300, 3), np.uint8)\n",
        "points = np.array([(50, 50), (100, 50), (250, 200), (180, 250)])\n",
        "points = np.array([[50, 50], [100, 50], [250, 200], [180, 250]])\n",
        "print(type(points))\n",
        "print(np.shape(points))\n",
        "print(points)\n",
        "\n",
        "cv2.polylines(img, [points], True, (255, 255, 0))\n",
        "\n",
        "cv2_imshow(img)"
      ]
    },
    {
      "cell_type": "code",
      "source": [
        "coordinates = \"72.28,127.9,77.36,123.19,85.33,117.39,94.39,111.6,105.62,105.8,122.29,99.64,132.07,97.1,143.3,96.38,158.52,97.1,170.47,98.92,184.6,102.9,194.03,107.97,200.55,113.77,209.97,118.84,218.66,122.83,224.82,126.82,228.81,133.34,221.2,130.8,214.32,129.71,205.98,129.35,195.84,131.53,186.05,135.15,178.08,138.05,167.94,141.67,156.34,144.93,143.3,147.83,128.81,148.92,115.4,148.92,103.08,147.83,90.76,145.29,79.17,141.67,73.37,138.05,70.84,134.42,71.2,131.53\"\n",
        "\n",
        "coordinates_split = coordinates.split(\",\")\n",
        "print(coordinates_split)"
      ],
      "metadata": {
        "colab": {
          "base_uri": "https://localhost:8080/"
        },
        "id": "sB5UklLZ9CHq",
        "outputId": "5783b9ab-bfdc-4271-e95d-59b21d03e6c1"
      },
      "execution_count": 52,
      "outputs": [
        {
          "output_type": "stream",
          "name": "stdout",
          "text": [
            "['72.28', '127.9', '77.36', '123.19', '85.33', '117.39', '94.39', '111.6', '105.62', '105.8', '122.29', '99.64', '132.07', '97.1', '143.3', '96.38', '158.52', '97.1', '170.47', '98.92', '184.6', '102.9', '194.03', '107.97', '200.55', '113.77', '209.97', '118.84', '218.66', '122.83', '224.82', '126.82', '228.81', '133.34', '221.2', '130.8', '214.32', '129.71', '205.98', '129.35', '195.84', '131.53', '186.05', '135.15', '178.08', '138.05', '167.94', '141.67', '156.34', '144.93', '143.3', '147.83', '128.81', '148.92', '115.4', '148.92', '103.08', '147.83', '90.76', '145.29', '79.17', '141.67', '73.37', '138.05', '70.84', '134.42', '71.2', '131.53']\n"
          ]
        }
      ]
    },
    {
      "cell_type": "code",
      "source": [
        "img = np.zeros((250, 250, 3), np.uint8)\n",
        "\n",
        "coordinates = np.array(coordinates_split).astype(np.float32)\n",
        "coordinates = np.round(coordinates).astype(np.int32)\n",
        "\n",
        "points = np.reshape(coordinates,(-1,1,2)) #変な形だが表示させるために必要\n",
        "#print(points)\n",
        "cv2.fillPoly(img, pts=[points], color=(255, 255, 255))\n",
        "\n",
        "cv2_imshow(img)\n",
        "\n",
        "#cv2.polylines(img, [coordinates], True, (255, 255, 0))"
      ],
      "metadata": {
        "colab": {
          "base_uri": "https://localhost:8080/",
          "height": 267
        },
        "id": "j0mv9-dw9hJJ",
        "outputId": "68153edd-0037-4f03-fc6c-c28e0a832b16"
      },
      "execution_count": 101,
      "outputs": [
        {
          "output_type": "display_data",
          "data": {
            "image/png": "[encoded data removed]",
            "text/plain": [
              "<PIL.Image.Image image mode=RGB size=250x250 at 0x7F8F5DCCA750>"
            ]
          },
          "metadata": {}
        }
      ]
    },
    {
      "cell_type": "code",
      "source": [
        ""
      ],
      "metadata": {
        "id": "7f7VoM2OJFH4"
      },
      "execution_count": null,
      "outputs": []
    }
  ]
}