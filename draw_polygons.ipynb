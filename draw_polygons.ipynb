{
  "nbformat": 4,
  "nbformat_minor": 0,
  "metadata": {
    "colab": {
      "name": "Untitled98.ipynb",
      "provenance": [],
      "authorship_tag": "ABX9TyNRl5ZMyeePyyiq/oXiM/7s",
      "include_colab_link": true
    },
    "kernelspec": {
      "name": "python3",
      "display_name": "Python 3"
    },
    "language_info": {
      "name": "python"
    }
  },
  "cells": [
    {
      "cell_type": "markdown",
      "metadata": {
        "id": "view-in-github",
        "colab_type": "text"
      },
      "source": [
        "<a href=\"https://colab.research.google.com/github/ykitaguchi77/opencv/blob/main/draw_polygons.ipynb\" target=\"_parent\"><img src=\"https://colab.research.google.com/assets/colab-badge.svg\" alt=\"Open In Colab\"/></a>"
      ]
    },
    {
      "cell_type": "markdown",
      "source": [
        "#**Draw polygons**"
      ],
      "metadata": {
        "id": "dOD-2Csi8ILa"
      }
    },
    {
      "cell_type": "code",
      "execution_count": 5,
      "metadata": {
        "colab": {
          "base_uri": "https://localhost:8080/",
          "height": 317
        },
        "id": "q5s5ot-K8G8N",
        "outputId": "df4edcf6-cec4-441f-cb23-ef4124bc6744"
      },
      "outputs": [
        {
          "output_type": "display_data",
          "data": {
            "image/png": "[encoded data removed]",
            "text/plain": [
              "<PIL.Image.Image image mode=RGB size=300x300 at 0x7F2FDBADB9D0>"
            ]
          },
          "metadata": {}
        }
      ],
      "source": [
        "import numpy as np\n",
        "import cv2\n",
        "from google.colab.patches import cv2_imshow\n",
        "  \n",
        "img = np.zeros((300, 300, 3), np.uint8)\n",
        "points = np.array([(50, 50), (100, 50), (250, 200), (180, 250)])\n",
        "cv2.polylines(img, [points], True, (255, 255, 0))\n",
        "\n",
        "cv2_imshow(img)"
      ]
    },
    {
      "cell_type": "code",
      "source": [
        "coordinates = \"72.28,127.9,77.36,123.19,85.33,117.39,94.39,111.6,105.62,105.8,122.29,99.64,132.07,97.1,143.3,96.38,158.52,97.1,170.47,98.92,184.6,102.9,194.03,107.97,200.55,113.77,209.97,118.84,218.66,122.83,224.82,126.82,228.81,133.34,221.2,130.8,214.32,129.71,205.98,129.35,195.84,131.53,186.05,135.15,178.08,138.05,167.94,141.67,156.34,144.93,143.3,147.83,128.81,148.92,115.4,148.92,103.08,147.83,90.76,145.29,79.17,141.67,73.37,138.05,70.84,134.42,71.2,131.53\"\n",
        "\n",
        "\n",
        "y = coordinates.split(\",\")\n",
        "print(y)"
      ],
      "metadata": {
        "colab": {
          "base_uri": "https://localhost:8080/"
        },
        "id": "sB5UklLZ9CHq",
        "outputId": "59e79b4b-c7d8-4e06-97fd-739ea2930107"
      },
      "execution_count": 8,
      "outputs": [
        {
          "output_type": "stream",
          "name": "stdout",
          "text": [
            "['72.28', '127.9', '77.36', '123.19', '85.33', '117.39', '94.39', '111.6', '105.62', '105.8', '122.29', '99.64', '132.07', '97.1', '143.3', '96.38', '158.52', '97.1', '170.47', '98.92', '184.6', '102.9', '194.03', '107.97', '200.55', '113.77', '209.97', '118.84', '218.66', '122.83', '224.82', '126.82', '228.81', '133.34', '221.2', '130.8', '214.32', '129.71', '205.98', '129.35', '195.84', '131.53', '186.05', '135.15', '178.08', '138.05', '167.94', '141.67', '156.34', '144.93', '143.3', '147.83', '128.81', '148.92', '115.4', '148.92', '103.08', '147.83', '90.76', '145.29', '79.17', '141.67', '73.37', '138.05', '70.84', '134.42', '71.2', '131.53']\n"
          ]
        }
      ]
    },
    {
      "cell_type": "code",
      "source": [
        ""
      ],
      "metadata": {
        "id": "j0mv9-dw9hJJ"
      },
      "execution_count": null,
      "outputs": []
    }
  ]
}